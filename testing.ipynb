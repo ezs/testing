{
  "nbformat": 4,
  "nbformat_minor": 0,
  "metadata": {
    "colab": {
      "name": "testing.ipynb",
      "provenance": [],
      "authorship_tag": "ABX9TyPTBl4Ty3dTfukQo9rVDk7T",
      "include_colab_link": true
    },
    "kernelspec": {
      "name": "python3",
      "display_name": "Python 3"
    }
  },
  "cells": [
    {
      "cell_type": "markdown",
      "metadata": {
        "id": "view-in-github",
        "colab_type": "text"
      },
      "source": [
        "<a href=\"https://colab.research.google.com/github/ezs/testing/blob/main/testing.ipynb\" target=\"_parent\"><img src=\"https://colab.research.google.com/assets/colab-badge.svg\" alt=\"Open In Colab\"/></a>"
      ]
    },
    {
      "cell_type": "code",
      "metadata": {
        "colab": {
          "base_uri": "https://localhost:8080/"
        },
        "id": "0Bzq_IXYr7JF",
        "outputId": "31be27ef-10f5-4247-d50c-baa2a356847a"
      },
      "source": [
        "import requests\n",
        "import json\n",
        "import pandas as pd\n",
        "import matplotlib.pyplot as plt\n",
        "\n",
        "# # url = \"https://services.arcgis.com/njFNhDsUCentVYJW/arcgis/rest/services/MDCOVID19_CasesByCounty/FeatureServer/0/query?where=1%3D1&outFields=OBJECTID,DATE,Anne_Arundel,Baltimore,Baltimore_City,Howard,Prince_Georges,Unknown,Montgomery&outSR=4326&f=json\"\n",
        "# url = \"https://opendata.maryland.gov/api/views/tm86-dujs/rows.json?accessType=DOWNLOAD\"\n",
        "# response = requests.get(url)\n",
        "# data = response.json()\n",
        "# # print(data['features'])\n",
        "# #pd.json_normalize(data['features'])\n",
        "\n",
        "# #df = pd.DataFrame(data['meta']['view']['columns'])\n",
        "# json_data = pd.json_normalize(data['meta']['view'])\n",
        "\n",
        "# # pd.read_json(data['features'])\n",
        "# print(json_data)\n",
        "\n",
        "md_json_data = pd.read_json('https://api.covidtracking.com/v1/states/md/daily.json',)\n",
        "df = pd.DataFrame(md_json_data)\n",
        "print(df)\n"
      ],
      "execution_count": null,
      "outputs": [
        {
          "output_type": "stream",
          "text": [
            "         date state  positive  ...  positiveScore  score  grade\n",
            "0    20210131    MD    354473  ...              0      0       \n",
            "1    20210130    MD    352726  ...              0      0       \n",
            "2    20210129    MD    350629  ...              0      0       \n",
            "3    20210128    MD    348749  ...              0      0       \n",
            "4    20210127    MD    346559  ...              0      0       \n",
            "..        ...   ...       ...  ...            ...    ...    ...\n",
            "328  20200309    MD         5  ...              0      0       \n",
            "329  20200308    MD         3  ...              0      0       \n",
            "330  20200307    MD         3  ...              0      0       \n",
            "331  20200306    MD         3  ...              0      0       \n",
            "332  20200305    MD         0  ...              0      0       \n",
            "\n",
            "[333 rows x 55 columns]\n"
          ],
          "name": "stdout"
        }
      ]
    },
    {
      "cell_type": "code",
      "metadata": {
        "colab": {
          "base_uri": "https://localhost:8080/",
          "height": 296
        },
        "id": "uMH8TYUuxazN",
        "outputId": "0353b626-541a-4dca-b0c5-7e5ec9c1a650"
      },
      "source": [
        "df.plot(x='date', y=['positiveIncrease','hospitalizedCurrently'])\n",
        "# df.plot(x='date', y='hospitalizedCurrently')"
      ],
      "execution_count": null,
      "outputs": [
        {
          "output_type": "execute_result",
          "data": {
            "text/plain": [
              "<matplotlib.axes._subplots.AxesSubplot at 0x7fb4adbbf5c0>"
            ]
          },
          "metadata": {
            "tags": []
          },
          "execution_count": 2
        },
        {
          "output_type": "display_data",
          "data": {
            "image/png": "[encoded data removed]",
            "text/plain": [
              "<Figure size 432x288 with 1 Axes>"
            ]
          },
          "metadata": {
            "tags": [],
            "needs_background": "light"
          }
        }
      ]
    },
    {
      "cell_type": "code",
      "metadata": {
        "colab": {
          "base_uri": "https://localhost:8080/"
        },
        "id": "tzTYF-640UVT",
        "outputId": "8d0227cc-73ca-48fa-ddbb-38f2fe8e7743"
      },
      "source": [
        "print(df.columns)"
      ],
      "execution_count": null,
      "outputs": [
        {
          "output_type": "stream",
          "text": [
            "Index(['date', 'state', 'positive', 'probableCases', 'negative', 'pending',\n",
            "       'totalTestResultsSource', 'totalTestResults', 'hospitalizedCurrently',\n",
            "       'hospitalizedCumulative', 'inIcuCurrently', 'inIcuCumulative',\n",
            "       'onVentilatorCurrently', 'onVentilatorCumulative', 'recovered',\n",
            "       'dataQualityGrade', 'lastUpdateEt', 'dateModified', 'checkTimeEt',\n",
            "       'death', 'hospitalized', 'dateChecked', 'totalTestsViral',\n",
            "       'positiveTestsViral', 'negativeTestsViral', 'positiveCasesViral',\n",
            "       'deathConfirmed', 'deathProbable', 'totalTestEncountersViral',\n",
            "       'totalTestsPeopleViral', 'totalTestsAntibody', 'positiveTestsAntibody',\n",
            "       'negativeTestsAntibody', 'totalTestsPeopleAntibody',\n",
            "       'positiveTestsPeopleAntibody', 'negativeTestsPeopleAntibody',\n",
            "       'totalTestsPeopleAntigen', 'positiveTestsPeopleAntigen',\n",
            "       'totalTestsAntigen', 'positiveTestsAntigen', 'fips', 'positiveIncrease',\n",
            "       'negativeIncrease', 'total', 'totalTestResultsIncrease', 'posNeg',\n",
            "       'deathIncrease', 'hospitalizedIncrease', 'hash', 'commercialScore',\n",
            "       'negativeRegularScore', 'negativeScore', 'positiveScore', 'score',\n",
            "       'grade'],\n",
            "      dtype='object')\n"
          ],
          "name": "stdout"
        }
      ]
    },
    {
      "cell_type": "code",
      "metadata": {
        "id": "7OP24mG-ATg1",
        "colab": {
          "base_uri": "https://localhost:8080/",
          "height": 296
        },
        "outputId": "701209cb-c17b-4d91-bf13-ba5a2d0aec54"
      },
      "source": [
        "field_1 = 'hospitalizedCurrently' #@param {type:\"string\"}\n",
        "field_2 = 'positiveIncrease' #@param {type:\"string\"}\n",
        "\n",
        "df.plot(x='date', y=[field_1, field_2],)"
      ],
      "execution_count": null,
      "outputs": [
        {
          "output_type": "execute_result",
          "data": {
            "text/plain": [
              "<matplotlib.axes._subplots.AxesSubplot at 0x7fb4abe94be0>"
            ]
          },
          "metadata": {
            "tags": []
          },
          "execution_count": 13
        },
        {
          "output_type": "display_data",
          "data": {
            "image/png": "[encoded data removed]",
            "text/plain": [
              "<Figure size 432x288 with 1 Axes>"
            ]
          },
          "metadata": {
            "tags": [],
            "needs_background": "light"
          }
        }
      ]
    },
    {
      "cell_type": "code",
      "metadata": {
        "colab": {
          "base_uri": "https://localhost:8080/"
        },
        "id": "Wqv-G64y1PUI",
        "outputId": "53231f6e-40df-4f92-fc59-c23e2824709f"
      },
      "source": [
        "foo = 'text'\n",
        "print(f\"value of foo: {foo}\")"
      ],
      "execution_count": null,
      "outputs": [
        {
          "output_type": "stream",
          "text": [
            "value of foo: text\n"
          ],
          "name": "stdout"
        }
      ]
    },
    {
      "cell_type": "code",
      "metadata": {
        "colab": {
          "base_uri": "https://localhost:8080/"
        },
        "id": "vpHT_-tiPIs-",
        "outputId": "f4defab1-bba3-41cb-fda8-510578c96e0d"
      },
      "source": [
        "l = ['zero', 'one', 'two', 'three']\n",
        "for index, key in enumerate(l):\n",
        "  #new_list = map(lambda x: x[index], l)\n",
        "  print(f\"Key: {key}, index: {index}\")\n",
        "  #print(list(new_list))"
      ],
      "execution_count": null,
      "outputs": [
        {
          "output_type": "stream",
          "text": [
            "Key: zero, index: 0\n",
            "Key: one, index: 1\n",
            "Key: two, index: 2\n",
            "Key: three, index: 3\n"
          ],
          "name": "stdout"
        }
      ]
    },
    {
      "cell_type": "code",
      "metadata": {
        "id": "XnsPIrfmPb2q"
      },
      "source": [
        ""
      ],
      "execution_count": null,
      "outputs": []
    }
  ]
}